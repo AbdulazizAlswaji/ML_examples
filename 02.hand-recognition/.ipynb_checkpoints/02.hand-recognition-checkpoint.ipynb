{
 "cells": [
  {
   "cell_type": "code",
   "execution_count": 80,
   "metadata": {},
   "outputs": [],
   "source": [
    "import tensorflow as tf\n",
    "import h5py\n",
    "import matplotlib.pyplot as plt"
   ]
  },
  {
   "cell_type": "code",
   "execution_count": 2,
   "metadata": {},
   "outputs": [],
   "source": [
    "train_dataset = h5py.File('datasets/train_signs.h5', \"r\")\n",
    "test_dataset = h5py.File('datasets/test_signs.h5', \"r\")"
   ]
  },
  {
   "cell_type": "code",
   "execution_count": 3,
   "metadata": {},
   "outputs": [],
   "source": [
    "x_train = tf.data.Dataset.from_tensor_slices(train_dataset['train_set_x'])\n",
    "y_train = tf.data.Dataset.from_tensor_slices(train_dataset['train_set_y'])\n",
    "\n",
    "x_test = tf.data.Dataset.from_tensor_slices(test_dataset['test_set_x'])\n",
    "y_test = tf.data.Dataset.from_tensor_slices(test_dataset['test_set_y'])"
   ]
  },
  {
   "cell_type": "code",
   "execution_count": 4,
   "metadata": {},
   "outputs": [],
   "source": [
    "def normalize(image):\n",
    "    image = tf.cast(image, tf.float32) / 255.0\n",
    "    image = tf.reshape(image, [-1,])\n",
    "    return image"
   ]
  },
  {
   "cell_type": "code",
   "execution_count": 5,
   "metadata": {},
   "outputs": [
    {
     "name": "stdout",
     "output_type": "stream",
     "text": [
      "WARNING:tensorflow:AutoGraph could not transform <function normalize at 0x0000024E96C728B8> and will run it as-is.\n",
      "Please report this to the TensorFlow team. When filing the bug, set the verbosity to 10 (on Linux, `export AUTOGRAPH_VERBOSITY=10`) and attach the full output.\n",
      "Cause: 'arguments' object has no attribute 'posonlyargs'\n",
      "To silence this warning, decorate the function with @tf.autograph.experimental.do_not_convert\n",
      "WARNING: AutoGraph could not transform <function normalize at 0x0000024E96C728B8> and will run it as-is.\n",
      "Please report this to the TensorFlow team. When filing the bug, set the verbosity to 10 (on Linux, `export AUTOGRAPH_VERBOSITY=10`) and attach the full output.\n",
      "Cause: 'arguments' object has no attribute 'posonlyargs'\n",
      "To silence this warning, decorate the function with @tf.autograph.experimental.do_not_convert\n"
     ]
    }
   ],
   "source": [
    "new_train = x_train.map((normalize))\n",
    "new_test = x_test.map((normalize))"
   ]
  },
  {
   "cell_type": "code",
   "execution_count": 6,
   "metadata": {},
   "outputs": [],
   "source": [
    "def one_hot_matrix(label, depth=6):\n",
    "    return tf.reshape(tf.one_hot(label, depth), shape=[-1])"
   ]
  },
  {
   "cell_type": "code",
   "execution_count": 7,
   "metadata": {},
   "outputs": [
    {
     "name": "stdout",
     "output_type": "stream",
     "text": [
      "WARNING:tensorflow:AutoGraph could not transform <function one_hot_matrix at 0x0000024E9DB723A8> and will run it as-is.\n",
      "Please report this to the TensorFlow team. When filing the bug, set the verbosity to 10 (on Linux, `export AUTOGRAPH_VERBOSITY=10`) and attach the full output.\n",
      "Cause: 'arguments' object has no attribute 'posonlyargs'\n",
      "To silence this warning, decorate the function with @tf.autograph.experimental.do_not_convert\n",
      "WARNING: AutoGraph could not transform <function one_hot_matrix at 0x0000024E9DB723A8> and will run it as-is.\n",
      "Please report this to the TensorFlow team. When filing the bug, set the verbosity to 10 (on Linux, `export AUTOGRAPH_VERBOSITY=10`) and attach the full output.\n",
      "Cause: 'arguments' object has no attribute 'posonlyargs'\n",
      "To silence this warning, decorate the function with @tf.autograph.experimental.do_not_convert\n"
     ]
    }
   ],
   "source": [
    "new_y_test = y_test.map((one_hot_matrix))\n",
    "new_y_train = y_train.map(one_hot_matrix)"
   ]
  },
  {
   "cell_type": "code",
   "execution_count": 8,
   "metadata": {},
   "outputs": [],
   "source": [
    "def initialize_parameters():\n",
    "    initializer = tf.keras.initializers.GlorotNormal(seed=1) \n",
    "    \n",
    "    W1 = tf.Variable(initializer(shape=(25,12288)))\n",
    "    b1 = tf.Variable(initializer(shape=(25,1)))\n",
    "    \n",
    "    W2 = tf.Variable(initializer(shape=(12,25)))\n",
    "    b2 = tf.Variable(initializer(shape=(12,1)))\n",
    "    \n",
    "    W3 = tf.Variable(initializer(shape=(6,12)))\n",
    "    b3 = tf.Variable(initializer(shape=(6,1)))\n",
    "    \n",
    "    parameters = {\"W1\": W1,\n",
    "                  \"b1\": b1,\n",
    "                  \"W2\": W2,\n",
    "                  \"b2\": b2,\n",
    "                  \"W3\": W3,\n",
    "                  \"b3\": b3}\n",
    "    \n",
    "    return parameters"
   ]
  },
  {
   "cell_type": "code",
   "execution_count": 9,
   "metadata": {},
   "outputs": [],
   "source": [
    "def forward_propagation(X, parameters):\n",
    "    \n",
    "    W1 = parameters['W1']\n",
    "    b1 = parameters['b1']\n",
    "    W2 = parameters['W2']\n",
    "    b2 = parameters['b2']\n",
    "    W3 = parameters['W3']\n",
    "    b3 = parameters['b3']\n",
    "    \n",
    "    Z1 = tf.math.add(tf.matmul(W1, X) ,b1)\n",
    "    A1 = tf.keras.activations.relu(Z1)\n",
    "\n",
    "    \n",
    "    Z2 = tf.math.add(tf.linalg.matmul(W2, A1) ,b2)\n",
    "    A2 = tf.keras.activations.relu(Z2)\n",
    "    \n",
    "    \n",
    "    Z3 = tf.math.add(tf.matmul(W3, A2) ,b3) \n",
    "    \n",
    "    return Z3"
   ]
  },
  {
   "cell_type": "code",
   "execution_count": 10,
   "metadata": {},
   "outputs": [],
   "source": [
    "def compute_cost(logits, labels):\n",
    "    logits = tf.transpose(logits)\n",
    "    labels = tf.reshape(tf.transpose(labels),[logits.shape[0],6])\n",
    "    cost =  tf.reduce_mean(tf.keras.losses.categorical_crossentropy(labels, logits,from_logits=True))\n",
    "    return cost"
   ]
  },
  {
   "cell_type": "code",
   "execution_count": null,
   "metadata": {},
   "outputs": [],
   "source": []
  },
  {
   "cell_type": "code",
   "execution_count": 11,
   "metadata": {},
   "outputs": [],
   "source": [
    "def model(X_train, Y_train, X_test, Y_test, learning_rate = 0.0001,\n",
    "          num_epochs = 1500, minibatch_size = 32, print_cost = True):\n",
    "    \n",
    "    parameters = initialize_parameters()\n",
    "    \n",
    "    costs = []                                        \n",
    "    train_acc = []\n",
    "    test_acc = []\n",
    "    \n",
    "    W1 = parameters['W1']\n",
    "    b1 = parameters['b1']\n",
    "    W2 = parameters['W2']\n",
    "    b2 = parameters['b2']\n",
    "    W3 = parameters['W3']\n",
    "    b3 = parameters['b3']\n",
    "    \n",
    "    train_accuracy = tf.keras.metrics.CategoricalAccuracy()\n",
    "    test_accuracy = tf.keras.metrics.CategoricalAccuracy()\n",
    "    \n",
    "    optimizer = tf.keras.optimizers.Adam(learning_rate)\n",
    "    \n",
    "    dataset = tf.data.Dataset.zip((X_train, Y_train))\n",
    "    test_dataset = tf.data.Dataset.zip((X_test, Y_test))\n",
    "    \n",
    "    m = dataset.cardinality().numpy()\n",
    "    \n",
    "    minibatches = dataset.batch(minibatch_size)\n",
    "    test_minibatches = test_dataset.batch(minibatch_size).prefetch(8)\n",
    "    \n",
    "    for epoch in range(num_epochs):\n",
    "        \n",
    "        epoch_cost = 0\n",
    "        \n",
    "        train_accuracy.reset_states()\n",
    "        \n",
    "    \n",
    "        for (minibatch_X, minibatch_Y) in minibatches:\n",
    "            \n",
    "            with tf.GradientTape() as tape:\n",
    "                \n",
    "                Z3 = forward_propagation(tf.transpose(minibatch_X), parameters)\n",
    "                \n",
    "                minibatch_cost = compute_cost(Z3, tf.transpose(minibatch_Y))\n",
    "            \n",
    "            train_accuracy.update_state(minibatch_Y, tf.transpose(Z3))\n",
    "            \n",
    "            trainable_variables = [W1, b1, W2, b2, W3, b3]\n",
    "            grads = tape.gradient(minibatch_cost, trainable_variables)\n",
    "            optimizer.apply_gradients(zip(grads, trainable_variables))\n",
    "            \n",
    "            epoch_cost += minibatch_cost\n",
    "        \n",
    "        epoch_cost /= m\n",
    "        \n",
    "        if print_cost == True and epoch % 10 == 0:\n",
    "            print (\"Cost after epoch %i: %f\" % (epoch, epoch_cost))\n",
    "            print(\"Train accuracy:\", train_accuracy.result())\n",
    "            \n",
    "            for (minibatch_X, minibatch_Y) in test_minibatches:\n",
    "                Z3 = forward_propagation(tf.transpose(minibatch_X), parameters)\n",
    "                test_accuracy.update_state(minibatch_Y, tf.transpose(Z3))\n",
    "            print(\"Test_accuracy:\", test_accuracy.result())\n",
    "            \n",
    "            costs.append(epoch_cost)\n",
    "            train_acc.append(train_accuracy.result())\n",
    "            test_acc.append(test_accuracy.result())\n",
    "            test_accuracy.reset_states()\n",
    "\n",
    "    return parameters, costs, train_acc, test_acc\n",
    "             "
   ]
  },
  {
   "cell_type": "code",
   "execution_count": 12,
   "metadata": {},
   "outputs": [
    {
     "name": "stdout",
     "output_type": "stream",
     "text": [
      "Cost after epoch 0: 0.058487\n",
      "Train accuracy: tf.Tensor(0.17962962, shape=(), dtype=float32)\n",
      "Test_accuracy: tf.Tensor(0.18333334, shape=(), dtype=float32)\n",
      "Cost after epoch 10: 0.042271\n",
      "Train accuracy: tf.Tensor(0.53333336, shape=(), dtype=float32)\n",
      "Test_accuracy: tf.Tensor(0.5083333, shape=(), dtype=float32)\n",
      "Cost after epoch 20: 0.034299\n",
      "Train accuracy: tf.Tensor(0.6101852, shape=(), dtype=float32)\n",
      "Test_accuracy: tf.Tensor(0.56666666, shape=(), dtype=float32)\n",
      "Cost after epoch 30: 0.030725\n",
      "Train accuracy: tf.Tensor(0.6398148, shape=(), dtype=float32)\n",
      "Test_accuracy: tf.Tensor(0.6166667, shape=(), dtype=float32)\n",
      "Cost after epoch 40: 0.028262\n",
      "Train accuracy: tf.Tensor(0.6666667, shape=(), dtype=float32)\n",
      "Test_accuracy: tf.Tensor(0.65833336, shape=(), dtype=float32)\n",
      "Cost after epoch 50: 0.026335\n",
      "Train accuracy: tf.Tensor(0.6851852, shape=(), dtype=float32)\n",
      "Test_accuracy: tf.Tensor(0.675, shape=(), dtype=float32)\n",
      "Cost after epoch 60: 0.024733\n",
      "Train accuracy: tf.Tensor(0.7111111, shape=(), dtype=float32)\n",
      "Test_accuracy: tf.Tensor(0.69166666, shape=(), dtype=float32)\n",
      "Cost after epoch 70: 0.023360\n",
      "Train accuracy: tf.Tensor(0.73055553, shape=(), dtype=float32)\n",
      "Test_accuracy: tf.Tensor(0.7, shape=(), dtype=float32)\n",
      "Cost after epoch 80: 0.022143\n",
      "Train accuracy: tf.Tensor(0.74444443, shape=(), dtype=float32)\n",
      "Test_accuracy: tf.Tensor(0.725, shape=(), dtype=float32)\n",
      "Cost after epoch 90: 0.021051\n",
      "Train accuracy: tf.Tensor(0.7592593, shape=(), dtype=float32)\n",
      "Test_accuracy: tf.Tensor(0.725, shape=(), dtype=float32)\n"
     ]
    }
   ],
   "source": [
    "parameters, costs, train_acc, test_acc = model(new_train, new_y_train, new_test, new_y_test, num_epochs=100)"
   ]
  },
  {
   "cell_type": "code",
   "execution_count": 15,
   "metadata": {},
   "outputs": [
    {
     "data": {
      "image/png": "[encoded data removed]",
      "text/plain": [
       "<Figure size 432x288 with 1 Axes>"
      ]
     },
     "metadata": {
      "needs_background": "light"
     },
     "output_type": "display_data"
    }
   ],
   "source": [
    "# Plot the cost\n",
    "import matplotlib.pyplot as plt\n",
    "import numpy as np\n",
    "plt.plot(np.squeeze(costs))\n",
    "plt.ylabel('cost')\n",
    "plt.xlabel('iterations (per fives)')\n",
    "plt.title(\"Learning rate =\" + str(0.0001))\n",
    "plt.show()\n"
   ]
  },
  {
   "cell_type": "code",
   "execution_count": 16,
   "metadata": {},
   "outputs": [
    {
     "data": {
      "image/png": "[encoded data removed]",
      "text/plain": [
       "<Figure size 432x288 with 1 Axes>"
      ]
     },
     "metadata": {
      "needs_background": "light"
     },
     "output_type": "display_data"
    }
   ],
   "source": [
    "# Plot the train accuracy\n",
    "plt.plot(np.squeeze(train_acc))\n",
    "plt.ylabel('Train Accuracy')\n",
    "plt.xlabel('iterations (per fives)')\n",
    "plt.title(\"Learning rate =\" + str(0.0001))\n",
    "# Plot the test accuracy\n",
    "plt.plot(np.squeeze(test_acc))\n",
    "plt.ylabel('Test Accuracy')\n",
    "plt.xlabel('iterations (per fives)')\n",
    "plt.title(\"Learning rate =\" + str(0.0001))\n",
    "plt.show()\n"
   ]
  },
  {
   "cell_type": "code",
   "execution_count": 76,
   "metadata": {},
   "outputs": [],
   "source": [
    "f=predict(new_train, parameters)"
   ]
  },
  {
   "cell_type": "code",
   "execution_count": 68,
   "metadata": {},
   "outputs": [
    {
     "data": {
      "text/plain": [
       "5"
      ]
     },
     "execution_count": 68,
     "metadata": {},
     "output_type": "execute_result"
    }
   ],
   "source": [
    "Y=new_y_train\n",
    "np.argmax(next(iter(Y)))"
   ]
  },
  {
   "cell_type": "code",
   "execution_count": 78,
   "metadata": {},
   "outputs": [
    {
     "data": {
      "text/plain": [
       "2"
      ]
     },
     "execution_count": 78,
     "metadata": {},
     "output_type": "execute_result"
    }
   ],
   "source": [
    "np.argmax(f[16])+1"
   ]
  },
  {
   "cell_type": "code",
   "execution_count": 79,
   "metadata": {},
   "outputs": [
    {
     "data": {
      "text/plain": [
       "<tf.Tensor: shape=(6,), dtype=float32, numpy=\n",
       "array([-5.6781125, -1.675365 , -2.522531 , -5.078646 , -5.0435104,\n",
       "       -4.001263 ], dtype=float32)>"
      ]
     },
     "execution_count": 79,
     "metadata": {},
     "output_type": "execute_result"
    }
   ],
   "source": [
    "f[16]"
   ]
  },
  {
   "cell_type": "code",
   "execution_count": 230,
   "metadata": {},
   "outputs": [],
   "source": [
    "def predict(index, parameters, data, labels,new_test):\n",
    "    \n",
    "    plt.figure(figsize=(10, 10))\n",
    "    \n",
    "    data = iter(data)\n",
    "    labels = iter(labels)\n",
    "    \n",
    "    for i in range(index + 1):\n",
    "        selected_data = next(data)\n",
    "        selectes_labels = next(labels)\n",
    "    \n",
    "        \n",
    "    \n",
    "    \n",
    "    ax = plt.subplot(5, 5,  10)\n",
    "    plt.imshow(selected_data.numpy().astype(\"uint8\"))\n",
    "    plt.title(selectes_labels.numpy().astype(\"uint8\"))\n",
    "    plt.axis(\"off\")\n",
    "    \n",
    "    c = 0\n",
    "    X = new_test.batch(1)\n",
    "    for i in X:\n",
    "        if c == index:\n",
    "            print('index:', c)\n",
    "            Z3 = forward_propagation(tf.transpose(i), parameters)\n",
    "            #print(Z3)\n",
    "            print('prediction:' ,np.argmax(Z3))\n",
    "            break\n",
    "        else:\n",
    "            c = c+1"
   ]
  },
  {
   "cell_type": "code",
   "execution_count": 236,
   "metadata": {},
   "outputs": [
    {
     "name": "stdout",
     "output_type": "stream",
     "text": [
      "index: 110\n",
      "prediction: 1\n"
     ]
    },
    {
     "data": {
      "image/png": "[encoded data removed]",
      "text/plain": [
       "<Figure size 720x720 with 1 Axes>"
      ]
     },
     "metadata": {
      "needs_background": "light"
     },
     "output_type": "display_data"
    }
   ],
   "source": [
    "predict(110, parameters, x_test, y_test, new_test)"
   ]
  },
  {
   "cell_type": "code",
   "execution_count": null,
   "metadata": {},
   "outputs": [],
   "source": []
  }
 ],
 "metadata": {
  "kernelspec": {
   "display_name": "Python 3",
   "language": "python",
   "name": "python3"
  },
  "language_info": {
   "codemirror_mode": {
    "name": "ipython",
    "version": 3
   },
   "file_extension": ".py",
   "mimetype": "text/x-python",
   "name": "python",
   "nbconvert_exporter": "python",
   "pygments_lexer": "ipython3",
   "version": "3.7.4"
  }
 },
 "nbformat": 4,
 "nbformat_minor": 2
}
