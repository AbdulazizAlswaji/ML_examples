{
 "cells": [
  {
   "cell_type": "code",
   "execution_count": 44,
   "metadata": {},
   "outputs": [],
   "source": [
    "import tensorflow as tf\n",
    "import h5py\n",
    "import matplotlib.pyplot as plt\n",
    "import numpy as np"
   ]
  },
  {
   "cell_type": "code",
   "execution_count": 45,
   "metadata": {},
   "outputs": [],
   "source": [
    "train_dataset = h5py.File('datasets/train_signs.h5', 'r')\n",
    "test_dataset =  h5py.File('datasets/test_signs.h5', 'r')"
   ]
  },
  {
   "cell_type": "code",
   "execution_count": 46,
   "metadata": {},
   "outputs": [
    {
     "name": "stdout",
     "output_type": "stream",
     "text": [
      "list_classes\n",
      "test_set_x\n",
      "test_set_y\n"
     ]
    }
   ],
   "source": [
    "it = iter(test_dataset)\n",
    "for i in range(3):\n",
    "    print(next(it)) "
   ]
  },
  {
   "cell_type": "code",
   "execution_count": 47,
   "metadata": {},
   "outputs": [],
   "source": [
    "x_train = tf.data.Dataset.from_tensor_slices(train_dataset['train_set_x'])\n",
    "y_train = tf.data.Dataset.from_tensor_slices(train_dataset['train_set_y'])\n",
    "\n",
    "x_test = tf.data.Dataset.from_tensor_slices(test_dataset['test_set_x'])\n",
    "y_test = tf.data.Dataset.from_tensor_slices(test_dataset['test_set_y'])"
   ]
  },
  {
   "cell_type": "code",
   "execution_count": 48,
   "metadata": {},
   "outputs": [
    {
     "data": {
      "text/plain": [
       "12288"
      ]
     },
     "execution_count": 48,
     "metadata": {},
     "output_type": "execute_result"
    }
   ],
   "source": [
    "64*64*3"
   ]
  },
  {
   "cell_type": "code",
   "execution_count": 49,
   "metadata": {},
   "outputs": [
    {
     "data": {
      "text/plain": [
       "<tf.Tensor: shape=(64, 64, 3), dtype=uint8, numpy=\n",
       "array([[[227, 220, 214],\n",
       "        [227, 221, 215],\n",
       "        [227, 222, 215],\n",
       "        ...,\n",
       "        [232, 230, 224],\n",
       "        [231, 229, 222],\n",
       "        [230, 229, 221]],\n",
       "\n",
       "       [[227, 221, 214],\n",
       "        [227, 221, 215],\n",
       "        [228, 221, 215],\n",
       "        ...,\n",
       "        [232, 230, 224],\n",
       "        [231, 229, 222],\n",
       "        [231, 229, 221]],\n",
       "\n",
       "       [[227, 221, 214],\n",
       "        [227, 221, 214],\n",
       "        [227, 221, 215],\n",
       "        ...,\n",
       "        [232, 230, 224],\n",
       "        [231, 229, 223],\n",
       "        [230, 229, 221]],\n",
       "\n",
       "       ...,\n",
       "\n",
       "       [[119,  81,  51],\n",
       "        [124,  85,  55],\n",
       "        [127,  87,  58],\n",
       "        ...,\n",
       "        [210, 211, 211],\n",
       "        [211, 212, 210],\n",
       "        [210, 211, 210]],\n",
       "\n",
       "       [[119,  79,  51],\n",
       "        [124,  84,  55],\n",
       "        [126,  85,  56],\n",
       "        ...,\n",
       "        [210, 211, 210],\n",
       "        [210, 211, 210],\n",
       "        [209, 210, 209]],\n",
       "\n",
       "       [[119,  81,  51],\n",
       "        [123,  83,  55],\n",
       "        [122,  82,  54],\n",
       "        ...,\n",
       "        [209, 210, 210],\n",
       "        [209, 210, 209],\n",
       "        [208, 209, 209]]], dtype=uint8)>"
      ]
     },
     "execution_count": 49,
     "metadata": {},
     "output_type": "execute_result"
    }
   ],
   "source": [
    "next(iter(x_train))"
   ]
  },
  {
   "cell_type": "code",
   "execution_count": 50,
   "metadata": {},
   "outputs": [],
   "source": [
    "def normalize(image):\n",
    "    image = tf.cast(image, tf.float32) / 255\n",
    "    image = tf.reshape(image, [-1,])\n",
    "    print(image)\n",
    "    return image"
   ]
  },
  {
   "cell_type": "code",
   "execution_count": 51,
   "metadata": {},
   "outputs": [
    {
     "name": "stdout",
     "output_type": "stream",
     "text": [
      "WARNING:tensorflow:AutoGraph could not transform <function normalize at 0x00000266A1E855E8> and will run it as-is.\n",
      "Please report this to the TensorFlow team. When filing the bug, set the verbosity to 10 (on Linux, `export AUTOGRAPH_VERBOSITY=10`) and attach the full output.\n",
      "Cause: 'arguments' object has no attribute 'posonlyargs'\n",
      "To silence this warning, decorate the function with @tf.autograph.experimental.do_not_convert\n",
      "WARNING: AutoGraph could not transform <function normalize at 0x00000266A1E855E8> and will run it as-is.\n",
      "Please report this to the TensorFlow team. When filing the bug, set the verbosity to 10 (on Linux, `export AUTOGRAPH_VERBOSITY=10`) and attach the full output.\n",
      "Cause: 'arguments' object has no attribute 'posonlyargs'\n",
      "To silence this warning, decorate the function with @tf.autograph.experimental.do_not_convert\n",
      "Tensor(\"Reshape:0\", shape=(12288,), dtype=float32)\n",
      "Tensor(\"Reshape:0\", shape=(12288,), dtype=float32)\n"
     ]
    }
   ],
   "source": [
    "new_train = x_train.map(normalize)\n",
    "new_test = x_test.map(normalize)"
   ]
  },
  {
   "cell_type": "code",
   "execution_count": 52,
   "metadata": {},
   "outputs": [
    {
     "data": {
      "text/plain": [
       "(-0.5, 63.5, 63.5, -0.5)"
      ]
     },
     "execution_count": 52,
     "metadata": {},
     "output_type": "execute_result"
    },
    {
     "data": {
      "image/png": "[encoded data removed]",
      "text/plain": [
       "<Figure size 432x288 with 1 Axes>"
      ]
     },
     "metadata": {
      "needs_background": "light"
     },
     "output_type": "display_data"
    }
   ],
   "source": [
    "index = 666\n",
    "it_tr = iter(x_train)\n",
    "it_label = iter(y_train)\n",
    "\n",
    "for i in range(index):\n",
    "    tr = next(it_tr)\n",
    "    label =next(it_label)\n",
    "\n",
    "plt.imshow(tr.numpy().astype('uint8'))\n",
    "plt.title(label.numpy().astype('uint8'))\n",
    "plt.axis('off')"
   ]
  },
  {
   "cell_type": "code",
   "execution_count": 53,
   "metadata": {},
   "outputs": [],
   "source": [
    "def one_hot_matrix(label):\n",
    "    return tf.one_hot(label, 6)"
   ]
  },
  {
   "cell_type": "code",
   "execution_count": 54,
   "metadata": {},
   "outputs": [
    {
     "name": "stdout",
     "output_type": "stream",
     "text": [
      "WARNING:tensorflow:AutoGraph could not transform <function one_hot_matrix at 0x000002669AEF8EE8> and will run it as-is.\n",
      "Please report this to the TensorFlow team. When filing the bug, set the verbosity to 10 (on Linux, `export AUTOGRAPH_VERBOSITY=10`) and attach the full output.\n",
      "Cause: 'arguments' object has no attribute 'posonlyargs'\n",
      "To silence this warning, decorate the function with @tf.autograph.experimental.do_not_convert\n",
      "WARNING: AutoGraph could not transform <function one_hot_matrix at 0x000002669AEF8EE8> and will run it as-is.\n",
      "Please report this to the TensorFlow team. When filing the bug, set the verbosity to 10 (on Linux, `export AUTOGRAPH_VERBOSITY=10`) and attach the full output.\n",
      "Cause: 'arguments' object has no attribute 'posonlyargs'\n",
      "To silence this warning, decorate the function with @tf.autograph.experimental.do_not_convert\n"
     ]
    }
   ],
   "source": [
    "new_y_train = y_train.map(one_hot_matrix)\n",
    "new_y_test = y_test.map(one_hot_matrix)"
   ]
  },
  {
   "cell_type": "code",
   "execution_count": 55,
   "metadata": {},
   "outputs": [
    {
     "data": {
      "text/plain": [
       "<tf.Tensor: shape=(), dtype=int64, numpy=0>"
      ]
     },
     "execution_count": 55,
     "metadata": {},
     "output_type": "execute_result"
    }
   ],
   "source": [
    "next(iter(y_test))"
   ]
  },
  {
   "cell_type": "code",
   "execution_count": 56,
   "metadata": {},
   "outputs": [
    {
     "data": {
      "text/plain": [
       "<tf.Tensor: shape=(6,), dtype=float32, numpy=array([1., 0., 0., 0., 0., 0.], dtype=float32)>"
      ]
     },
     "execution_count": 56,
     "metadata": {},
     "output_type": "execute_result"
    }
   ],
   "source": [
    "next(iter(new_y_test))"
   ]
  },
  {
   "cell_type": "code",
   "execution_count": 57,
   "metadata": {},
   "outputs": [],
   "source": [
    "# ==========================================================="
   ]
  },
  {
   "cell_type": "code",
   "execution_count": 58,
   "metadata": {},
   "outputs": [],
   "source": [
    "def initialize_parameters():\n",
    "    initializer = tf.keras.initializers.GlorotNormal(seed=1) \n",
    "    \n",
    "    W1 = tf.Variable(initializer(shape=(25,12288)))\n",
    "    b1 = tf.Variable(initializer(shape=(25,1)))\n",
    "\n",
    "    W2 = tf.Variable(initializer(shape=(12,25)))\n",
    "    b2 = tf.Variable(initializer(shape=(12,1)))\n",
    "    \n",
    "    W3 = tf.Variable(initializer(shape=(6,12)))\n",
    "    b3 = tf.Variable(initializer(shape=(6,1)))\n",
    "    \n",
    "    parameters = {\n",
    "        'W1': W1,\n",
    "        'b1': b1,\n",
    "        \n",
    "        'W2': W2,\n",
    "        'b2': b2,\n",
    "        \n",
    "        'W3': W3,\n",
    "        'b3': b3\n",
    "    }\n",
    "    \n",
    "    return parameters"
   ]
  },
  {
   "cell_type": "code",
   "execution_count": 59,
   "metadata": {},
   "outputs": [],
   "source": [
    "def forward_propagation(X, parameters):\n",
    "    \n",
    "    W1 = parameters['W1']\n",
    "    b1 = parameters['b1']\n",
    "    W2 = parameters['W2']\n",
    "    b2 = parameters['b2']\n",
    "    W3 = parameters['W3']\n",
    "    b3 = parameters['b3']\n",
    "    \n",
    "    Z1 = tf.math.add(tf.matmul(W1, X) ,b1)\n",
    "    A1 = tf.keras.activations.relu(Z1)\n",
    "\n",
    "    Z2 = tf.math.add(tf.matmul(W2, A1), b2)\n",
    "    A2 = tf.keras.activations.relu(Z2)\n",
    "    \n",
    "    Z3 =tf.math.add(tf.matmul(W3, A2), b3)\n",
    "    \n",
    "    return Z3\n",
    "    "
   ]
  },
  {
   "cell_type": "code",
   "execution_count": 60,
   "metadata": {},
   "outputs": [],
   "source": [
    "def compute_cost(logits, labels):\n",
    "    logits = tf.transpose(logits)\n",
    "    labels = tf.reshape(tf.transpose(labels),[logits.shape[0],6])\n",
    "    cost =  tf.reduce_mean(tf.keras.losses.categorical_crossentropy(labels, logits,from_logits=True))\n",
    "    return cost"
   ]
  },
  {
   "cell_type": "code",
   "execution_count": 61,
   "metadata": {},
   "outputs": [],
   "source": [
    "def model(X_train, Y_train, X_test, Y_test):\n",
    "    \n",
    "    parameters = initialize_parameters()\n",
    "    W1 = parameters['W1']\n",
    "    b1 = parameters['b1']\n",
    "    W2 = parameters['W2']\n",
    "    b2 = parameters['b2']\n",
    "    W3 = parameters['W3']\n",
    "    b3 = parameters['b3']\n",
    "    \n",
    "    minibatch_size = 32\n",
    "    dataset = tf.data.Dataset.zip((X_train, Y_train))\n",
    "    test_dataset = tf.data.Dataset.zip((X_test, Y_test))\n",
    "    \n",
    "    minibatches = dataset.batch(minibatch_size)\n",
    "    test_minibatches = test_dataset.batch(minibatch_size)\n",
    "    \n",
    "    train_accuracy = tf.keras.metrics.CategoricalAccuracy()\n",
    "    test_accuracy = tf.keras.metrics.CategoricalAccuracy()\n",
    "    \n",
    "    learning_rate = 0.0001\n",
    "    optimizer = tf.keras.optimizers.Adam(learning_rate)\n",
    "    \n",
    "    m = dataset.cardinality().numpy()\n",
    "    \n",
    "    costs = []                                        \n",
    "    train_acc = []\n",
    "    test_acc = []\n",
    "    \n",
    "    \n",
    "    \n",
    "    num_epochs = 200\n",
    "    for epoch in range(num_epochs):\n",
    "        train_accuracy.reset_states()\n",
    "        epoch_cost = 0\n",
    "        \n",
    "        for (minibatch_X, minibatch_Y) in minibatches:\n",
    "            with tf.GradientTape() as tape:\n",
    "                Z3 = forward_propagation(tf.transpose(minibatch_X), parameters)\n",
    "                minibatch_cost = compute_cost(Z3, tf.transpose(minibatch_Y))\n",
    "            \n",
    "            train_accuracy.update_state(minibatch_Y, tf.transpose(Z3))\n",
    "            trainable_variables = [W1, b1, W2, b2, W3, b3]\n",
    "            grads = tape.gradient(minibatch_cost, trainable_variables)\n",
    "            optimizer.apply_gradients(zip(grads, trainable_variables))\n",
    "            epoch_cost += minibatch_cost\n",
    "        epoch_cost /= m\n",
    "        \n",
    "        if epoch % 10 == 0:\n",
    "            print ('Cost after epoch %i: %f' % (epoch, epoch_cost))\n",
    "            print('Train accuracy:', train_accuracy.result())\n",
    "            \n",
    "            for (minibatch_X, minibatch_Y) in test_minibatches:\n",
    "                Z3 = forward_propagation(tf.transpose(minibatch_X), parameters)\n",
    "                test_accuracy.update_state(minibatch_Y, tf.transpose(Z3))\n",
    "            print('Test_accuracy:', test_accuracy.result())\n",
    "            \n",
    "            costs.append(epoch_cost)\n",
    "            train_acc.append(train_accuracy.result())\n",
    "            test_acc.append(test_accuracy.result())\n",
    "            test_accuracy.reset_states()\n",
    "    \n",
    "    \n",
    "    \n",
    "    return parameters, costs, train_acc, test_acc\n",
    "        \n",
    "    \n",
    "    \n",
    "\n"
   ]
  },
  {
   "cell_type": "code",
   "execution_count": 62,
   "metadata": {},
   "outputs": [
    {
     "name": "stdout",
     "output_type": "stream",
     "text": [
      "Cost after epoch 0: 0.057942\n",
      "Train accuracy: tf.Tensor(0.19814815, shape=(), dtype=float32)\n",
      "Test_accuracy: tf.Tensor(0.225, shape=(), dtype=float32)\n",
      "Cost after epoch 10: 0.048327\n",
      "Train accuracy: tf.Tensor(0.4037037, shape=(), dtype=float32)\n",
      "Test_accuracy: tf.Tensor(0.475, shape=(), dtype=float32)\n",
      "Cost after epoch 20: 0.041818\n",
      "Train accuracy: tf.Tensor(0.5037037, shape=(), dtype=float32)\n",
      "Test_accuracy: tf.Tensor(0.5416667, shape=(), dtype=float32)\n",
      "Cost after epoch 30: 0.037339\n",
      "Train accuracy: tf.Tensor(0.5824074, shape=(), dtype=float32)\n",
      "Test_accuracy: tf.Tensor(0.55, shape=(), dtype=float32)\n",
      "Cost after epoch 40: 0.034142\n",
      "Train accuracy: tf.Tensor(0.6148148, shape=(), dtype=float32)\n",
      "Test_accuracy: tf.Tensor(0.60833335, shape=(), dtype=float32)\n",
      "Cost after epoch 50: 0.031587\n",
      "Train accuracy: tf.Tensor(0.6527778, shape=(), dtype=float32)\n",
      "Test_accuracy: tf.Tensor(0.6166667, shape=(), dtype=float32)\n",
      "Cost after epoch 60: 0.029399\n",
      "Train accuracy: tf.Tensor(0.6814815, shape=(), dtype=float32)\n",
      "Test_accuracy: tf.Tensor(0.675, shape=(), dtype=float32)\n",
      "Cost after epoch 70: 0.027400\n",
      "Train accuracy: tf.Tensor(0.7, shape=(), dtype=float32)\n",
      "Test_accuracy: tf.Tensor(0.68333334, shape=(), dtype=float32)\n",
      "Cost after epoch 80: 0.025625\n",
      "Train accuracy: tf.Tensor(0.7138889, shape=(), dtype=float32)\n",
      "Test_accuracy: tf.Tensor(0.7, shape=(), dtype=float32)\n",
      "Cost after epoch 90: 0.024031\n",
      "Train accuracy: tf.Tensor(0.73333335, shape=(), dtype=float32)\n",
      "Test_accuracy: tf.Tensor(0.7083333, shape=(), dtype=float32)\n",
      "Cost after epoch 100: 0.022642\n",
      "Train accuracy: tf.Tensor(0.7453704, shape=(), dtype=float32)\n",
      "Test_accuracy: tf.Tensor(0.7083333, shape=(), dtype=float32)\n",
      "Cost after epoch 110: 0.021427\n",
      "Train accuracy: tf.Tensor(0.7583333, shape=(), dtype=float32)\n",
      "Test_accuracy: tf.Tensor(0.71666664, shape=(), dtype=float32)\n",
      "Cost after epoch 120: 0.020363\n",
      "Train accuracy: tf.Tensor(0.7685185, shape=(), dtype=float32)\n",
      "Test_accuracy: tf.Tensor(0.725, shape=(), dtype=float32)\n",
      "Cost after epoch 130: 0.019418\n",
      "Train accuracy: tf.Tensor(0.78055555, shape=(), dtype=float32)\n",
      "Test_accuracy: tf.Tensor(0.73333335, shape=(), dtype=float32)\n",
      "Cost after epoch 140: 0.018545\n",
      "Train accuracy: tf.Tensor(0.7953704, shape=(), dtype=float32)\n",
      "Test_accuracy: tf.Tensor(0.73333335, shape=(), dtype=float32)\n",
      "Cost after epoch 150: 0.017750\n",
      "Train accuracy: tf.Tensor(0.80185187, shape=(), dtype=float32)\n",
      "Test_accuracy: tf.Tensor(0.7416667, shape=(), dtype=float32)\n",
      "Cost after epoch 160: 0.017044\n",
      "Train accuracy: tf.Tensor(0.8055556, shape=(), dtype=float32)\n",
      "Test_accuracy: tf.Tensor(0.725, shape=(), dtype=float32)\n",
      "Cost after epoch 170: 0.016415\n",
      "Train accuracy: tf.Tensor(0.81666666, shape=(), dtype=float32)\n",
      "Test_accuracy: tf.Tensor(0.73333335, shape=(), dtype=float32)\n",
      "Cost after epoch 180: 0.015821\n",
      "Train accuracy: tf.Tensor(0.83148146, shape=(), dtype=float32)\n",
      "Test_accuracy: tf.Tensor(0.7416667, shape=(), dtype=float32)\n",
      "Cost after epoch 190: 0.015358\n",
      "Train accuracy: tf.Tensor(0.8333333, shape=(), dtype=float32)\n",
      "Test_accuracy: tf.Tensor(0.73333335, shape=(), dtype=float32)\n"
     ]
    }
   ],
   "source": [
    "parameters, costs, train_acc, test_acc = model(new_train, new_y_train, new_test, new_y_test)"
   ]
  },
  {
   "cell_type": "code",
   "execution_count": 63,
   "metadata": {},
   "outputs": [
    {
     "data": {
      "image/png": "[encoded data removed]",
      "text/plain": [
       "<Figure size 432x288 with 1 Axes>"
      ]
     },
     "metadata": {
      "needs_background": "light"
     },
     "output_type": "display_data"
    }
   ],
   "source": [
    "plt.plot(np.squeeze(costs))\n",
    "plt.ylabel('cost')\n",
    "plt.xlabel('iterations (per fives)')\n",
    "plt.title(\"Learning rate =\" + str(0.0001))\n",
    "plt.show()"
   ]
  },
  {
   "cell_type": "code",
   "execution_count": 64,
   "metadata": {},
   "outputs": [
    {
     "data": {
      "image/png": "[encoded data removed]",
      "text/plain": [
       "<Figure size 432x288 with 1 Axes>"
      ]
     },
     "metadata": {
      "needs_background": "light"
     },
     "output_type": "display_data"
    }
   ],
   "source": [
    "plt.plot(np.squeeze(train_acc))\n",
    "plt.ylabel('Train Accuracy')\n",
    "plt.xlabel('iterations (per fives)')\n",
    "plt.title(\"Learning rate =\" + str(0.0001))\n",
    "\n",
    "plt.plot(np.squeeze(test_acc))\n",
    "plt.ylabel('Test Accuracy')\n",
    "plt.xlabel('iterations (per fives)')\n",
    "plt.title(\"Learning rate =\" + str(0.0001))\n",
    "plt.show()"
   ]
  },
  {
   "cell_type": "code",
   "execution_count": 79,
   "metadata": {
    "scrolled": true
   },
   "outputs": [
    {
     "name": "stdout",
     "output_type": "stream",
     "text": [
      "index: 11\n",
      "tf.Tensor(\n",
      "[[ 1.1601087 ]\n",
      " [ 8.188594  ]\n",
      " [ 7.5095716 ]\n",
      " [-0.12909454]\n",
      " [-0.33174098]\n",
      " [ 2.3421557 ]], shape=(6, 1), dtype=float32)\n",
      "prediction: 1\n"
     ]
    },
    {
     "data": {
      "image/png": "[encoded data removed]",
      "text/plain": [
       "<Figure size 720x720 with 1 Axes>"
      ]
     },
     "metadata": {
      "needs_background": "light"
     },
     "output_type": "display_data"
    }
   ],
   "source": [
    "def predict(index, parameters, data, labels, new_data):\n",
    "    data = iter(data)\n",
    "    labels = iter(labels)\n",
    "    \n",
    "    for i in range(index + 1):\n",
    "        selected_data = next(data)\n",
    "        selected_labels = next(labels)\n",
    "    \n",
    "    plt.figure(figsize=(10, 10))\n",
    "    ax = plt.subplot(5, 5,  10)\n",
    "    plt.imshow(selected_data.numpy().astype(\"uint8\"))\n",
    "    plt.title(selected_labels.numpy().astype(\"uint8\"))\n",
    "    plt.axis(\"off\")\n",
    "    \n",
    "    c = 0\n",
    "    X = new_data.batch(1)\n",
    "    for i in X:\n",
    "        if c == index:\n",
    "            print('index:', c)\n",
    "            Z3 = forward_propagation(tf.transpose(i), parameters)\n",
    "            print(Z3)\n",
    "            print('prediction:' ,np.argmax(Z3))\n",
    "            break\n",
    "        else:\n",
    "            c = c+1\n",
    "    \n",
    "    \n",
    "predict(11, parameters, x_test, y_test, new_test)"
   ]
  },
  {
   "cell_type": "code",
   "execution_count": null,
   "metadata": {},
   "outputs": [],
   "source": []
  }
 ],
 "metadata": {
  "kernelspec": {
   "display_name": "Python 3",
   "language": "python",
   "name": "python3"
  },
  "language_info": {
   "codemirror_mode": {
    "name": "ipython",
    "version": 3
   },
   "file_extension": ".py",
   "mimetype": "text/x-python",
   "name": "python",
   "nbconvert_exporter": "python",
   "pygments_lexer": "ipython3",
   "version": "3.7.4"
  }
 },
 "nbformat": 4,
 "nbformat_minor": 2
}
